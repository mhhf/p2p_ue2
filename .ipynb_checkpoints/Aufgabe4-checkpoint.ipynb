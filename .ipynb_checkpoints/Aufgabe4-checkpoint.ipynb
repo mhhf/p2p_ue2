{
 "cells": [
  {
   "cell_type": "markdown",
   "metadata": {},
   "source": [
    "# Aufgabe 15\n",
    "### a)\n",
    "![](15a.png)\n",
    "### b)\n",
    "![](15b.png)\n",
    "### c)\n",
    "1. B: \"Defragmentiere\"\n",
    "2. B -> A: \"bist du ein Blat?\"\n",
    "3. A -> B: \"ja\"\n",
    "4. B -> A: \"übernimm $B_1$\"\n",
    "5. A -> B: ACK\n",
    "\n",
    "$\\Rightarrow$ \n",
    "\n",
    "A: A + B_1\n",
    "\n",
    "B: B_2"
   ]
  },
  {
   "cell_type": "code",
   "execution_count": 1,
   "metadata": {
    "collapsed": false
   },
   "outputs": [
    {
     "name": "stdout",
     "output_type": "stream",
     "text": [
      "/bin/sh: -c: line 0: syntax error near unexpected token `16a.png'\r\n",
      "/bin/sh: -c: line 0: `[](16a.png)'\r\n"
     ]
    }
   ],
   "source": [
    "# Aufgabe 16\n",
    "### a)\n",
    "![](16a.png)\n",
    "\n",
    "### b)\n",
    "\n",
    "### c)"
   ]
  },
  {
   "cell_type": "code",
   "execution_count": null,
   "metadata": {
    "collapsed": true
   },
   "outputs": [],
   "source": []
  }
 ],
 "metadata": {
  "kernelspec": {
   "display_name": "Python 2",
   "language": "python",
   "name": "python2"
  },
  "language_info": {
   "codemirror_mode": {
    "name": "ipython",
    "version": 2
   },
   "file_extension": ".py",
   "mimetype": "text/x-python",
   "name": "python",
   "nbconvert_exporter": "python",
   "pygments_lexer": "ipython2",
   "version": "2.7.10"
  }
 },
 "nbformat": 4,
 "nbformat_minor": 0
}
