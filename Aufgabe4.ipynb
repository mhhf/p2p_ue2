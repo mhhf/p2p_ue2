{
 "cells": [
  {
   "cell_type": "markdown",
   "metadata": {},
   "source": [
    "# Aufgabe 15\n",
    "### a)\n",
    "![](15a.png)\n",
    "### b)\n",
    "![](15b.png)\n",
    "### c)\n",
    "1. B: \"Defragmentiere\"\n",
    "2. B -> A: \"bist du ein Blat?\"\n",
    "3. A -> B: \"ja\"\n",
    "4. B -> A: \"übernimm $B_1$\"\n",
    "5. A -> B: ACK\n",
    "\n",
    "$\\Rightarrow$ \n",
    "\n",
    "A: A + B_1\n",
    "\n",
    "B: B_2"
   ]
  },
  {
   "cell_type": "markdown",
   "metadata": {
    "collapsed": false
   },
   "source": [
    "# Aufgabe 16\n",
    "### a)\n",
    "![](16a.png)\n",
    "\n",
    "### b)\n",
    "![](16b.png)\n",
    "\n",
    "### c)\n",
    "\n",
    "1. C: \"Defragmentiere\"\n",
    "2. C: keine benachbartes Blatt\n",
    "3. C: suche nach benachbarten blättern im teilbaum\n",
    "4. C -> A, B: \"Seit ihr blätter=\"\n",
    "5. A,B -> C: \"Ja\"\n",
    "6. benachbarte Blätter A, B gefunden\n",
    "7. C -> A: \"übergib dein zeug zu B und nimm C_2\"\n",
    "8. A -> C: Ack\n",
    "\n",
    "$\\Rightarrow$\n",
    "\n",
    "A: C_2\n",
    "\n",
    "B: A + B\n",
    "\n",
    "C: C_1"
   ]
  },
  {
   "cell_type": "markdown",
   "metadata": {
    "collapsed": true
   },
   "source": [
    "# Aufgabe 17\n",
    "\n",
    "### a)\n",
    "* A: z\n",
    "* B: v\n",
    "* C: y\n",
    "* D: u\n",
    "* E:\n",
    "* F:\n",
    "* G:\n",
    "* H: w\n",
    "* I:\n",
    "* J: x\n",
    "\n",
    "### b)\n",
    "\n",
    "1 - 7: D\n",
    "\n",
    "8: G\n",
    "\n",
    "9: J\n",
    "\n",
    "### c)\n",
    "C -> J -> A -> B"
   ]
  },
  {
   "cell_type": "markdown",
   "metadata": {},
   "source": [
    "# Aufgabe 18\n",
    "\n",
    "* A: 0\n",
    "* B: $2^8$\n",
    "* C: $2^8 + 2^7$\n",
    "* D: $2^8 + 2^7 + 2^6$\n",
    "* E: $2^9$\n",
    "    \n",
    "    \n",
    "x: $2^9 - 1$\n",
    "\n",
    "* x wird von E verwaltet. \n",
    "* A,B,C können nicht zu E routen.\n",
    "* Die weiteste \"distanz\" wie jeder Peer durch die finger Routen kann ist eben auch ihr successor.\n",
    "* $\\Rightarrow$ x muss durch alle Peers gehen, um x zu erreichen.\n",
    "    "
   ]
  },
  {
   "cell_type": "markdown",
   "metadata": {},
   "source": [
    "# Aufgabe 19\n",
    "\n",
    "1. C: \"stabelize\"\n",
    "2. C -> D: \"wer ist dein vorgänger?\"\n",
    "3. C: timeout => succ(C) <- E\n",
    "4. E: \"check pred\"\n",
    "5. E -> D: ping -> timeout => pred(E) <- null\n",
    "6. C: \"stabelize\"\n",
    "7. C -> E: \"wer ist dein vorgänger\"\n",
    "8. E -> C: null\n",
    "9. C -> E: \"ich bin dein vorgänger\"\n",
    "10. E: pred(E) <- C"
   ]
  },
  {
   "cell_type": "markdown",
   "metadata": {},
   "source": [
    "# Aufgabe 20\n",
    "\n",
    "### a)\n",
    "$\\rho = \\frac{max_i s_i}{ min_i s_i} = 2$\n",
    "\n",
    "### b)\n",
    "![](20b.png)\n",
    "\n",
    "### c)\n",
    "x = F\n",
    "y = D\n",
    "\n",
    "* F und D nicht benachbart \n",
    "* x' = l(F) = C\n",
    "* y' = l(D) = B\n",
    "* Sende Anfrage von x nach X'\n",
    "* Sende Anfrage von F nach C\n",
    "    * C und B sind benachbart\n",
    "    * sende Anfrage von C nach B\n",
    "* sende Anfrage von B nach D\n",
    "\n",
    "F -> C -> B -> D"
   ]
  }
 ],
 "metadata": {
  "kernelspec": {
   "display_name": "Python 2",
   "language": "python",
   "name": "python2"
  },
  "language_info": {
   "codemirror_mode": {
    "name": "ipython",
    "version": 2
   },
   "file_extension": ".py",
   "mimetype": "text/x-python",
   "name": "python",
   "nbconvert_exporter": "python",
   "pygments_lexer": "ipython2",
   "version": "2.7.10"
  }
 },
 "nbformat": 4,
 "nbformat_minor": 0
}
